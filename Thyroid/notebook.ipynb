{
 "cells": [
  {
   "cell_type": "markdown",
   "metadata": {},
   "source": [
    "## THyroid disease classification\n"
   ]
  },
  {
   "cell_type": "code",
   "execution_count": 1,
   "metadata": {},
   "outputs": [],
   "source": [
    "#import neccesary libraries\n",
    "import pandas as pd"
   ]
  },
  {
   "cell_type": "code",
   "execution_count": 225,
   "metadata": {},
   "outputs": [],
   "source": [
    "df = pd.read_csv(\"delaney_solubility_with_descriptors.csv\")"
   ]
  },
  {
   "cell_type": "markdown",
   "metadata": {},
   "source": []
  },
  {
   "cell_type": "code",
   "execution_count": 226,
   "metadata": {},
   "outputs": [
    {
     "data": {
      "text/html": [
       "<div>\n",
       "<style scoped>\n",
       "    .dataframe tbody tr th:only-of-type {\n",
       "        vertical-align: middle;\n",
       "    }\n",
       "\n",
       "    .dataframe tbody tr th {\n",
       "        vertical-align: top;\n",
       "    }\n",
       "\n",
       "    .dataframe thead th {\n",
       "        text-align: right;\n",
       "    }\n",
       "</style>\n",
       "<table border=\"1\" class=\"dataframe\">\n",
       "  <thead>\n",
       "    <tr style=\"text-align: right;\">\n",
       "      <th></th>\n",
       "      <th>MolLogP</th>\n",
       "      <th>MolWt</th>\n",
       "      <th>NumRotatableBonds</th>\n",
       "      <th>AromaticProportion</th>\n",
       "      <th>logS</th>\n",
       "    </tr>\n",
       "  </thead>\n",
       "  <tbody>\n",
       "    <tr>\n",
       "      <th>0</th>\n",
       "      <td>2.5954</td>\n",
       "      <td>167.850</td>\n",
       "      <td>0.0</td>\n",
       "      <td>0.0</td>\n",
       "      <td>-2.18</td>\n",
       "    </tr>\n",
       "    <tr>\n",
       "      <th>1</th>\n",
       "      <td>2.3765</td>\n",
       "      <td>133.405</td>\n",
       "      <td>0.0</td>\n",
       "      <td>0.0</td>\n",
       "      <td>-2.00</td>\n",
       "    </tr>\n",
       "    <tr>\n",
       "      <th>2</th>\n",
       "      <td>2.5938</td>\n",
       "      <td>167.850</td>\n",
       "      <td>1.0</td>\n",
       "      <td>0.0</td>\n",
       "      <td>-1.74</td>\n",
       "    </tr>\n",
       "    <tr>\n",
       "      <th>3</th>\n",
       "      <td>2.0289</td>\n",
       "      <td>133.405</td>\n",
       "      <td>1.0</td>\n",
       "      <td>0.0</td>\n",
       "      <td>-1.48</td>\n",
       "    </tr>\n",
       "    <tr>\n",
       "      <th>4</th>\n",
       "      <td>2.9189</td>\n",
       "      <td>187.375</td>\n",
       "      <td>1.0</td>\n",
       "      <td>0.0</td>\n",
       "      <td>-3.04</td>\n",
       "    </tr>\n",
       "  </tbody>\n",
       "</table>\n",
       "</div>"
      ],
      "text/plain": [
       "   MolLogP    MolWt  NumRotatableBonds  AromaticProportion  logS\n",
       "0   2.5954  167.850                0.0                 0.0 -2.18\n",
       "1   2.3765  133.405                0.0                 0.0 -2.00\n",
       "2   2.5938  167.850                1.0                 0.0 -1.74\n",
       "3   2.0289  133.405                1.0                 0.0 -1.48\n",
       "4   2.9189  187.375                1.0                 0.0 -3.04"
      ]
     },
     "execution_count": 226,
     "metadata": {},
     "output_type": "execute_result"
    }
   ],
   "source": [
    "df.head(5)"
   ]
  },
  {
   "cell_type": "code",
   "execution_count": 227,
   "metadata": {},
   "outputs": [
    {
     "name": "stdout",
     "output_type": "stream",
     "text": [
      "Thyroid disease data row is 1144, and our column is 5\n"
     ]
    }
   ],
   "source": [
    "# to know the shape of the data set\n",
    "print(f\"Thyroid disease data row is {df.shape[0]}, and our column is {df.shape[1]}\")"
   ]
  },
  {
   "cell_type": "code",
   "execution_count": 228,
   "metadata": {},
   "outputs": [
    {
     "data": {
      "text/plain": [
       "(1144, 5)"
      ]
     },
     "execution_count": 228,
     "metadata": {},
     "output_type": "execute_result"
    }
   ],
   "source": [
    "df.shape"
   ]
  },
  {
   "cell_type": "code",
   "execution_count": 229,
   "metadata": {},
   "outputs": [
    {
     "data": {
      "text/html": [
       "<div>\n",
       "<style scoped>\n",
       "    .dataframe tbody tr th:only-of-type {\n",
       "        vertical-align: middle;\n",
       "    }\n",
       "\n",
       "    .dataframe tbody tr th {\n",
       "        vertical-align: top;\n",
       "    }\n",
       "\n",
       "    .dataframe thead th {\n",
       "        text-align: right;\n",
       "    }\n",
       "</style>\n",
       "<table border=\"1\" class=\"dataframe\">\n",
       "  <thead>\n",
       "    <tr style=\"text-align: right;\">\n",
       "      <th></th>\n",
       "      <th>MolLogP</th>\n",
       "      <th>MolWt</th>\n",
       "      <th>NumRotatableBonds</th>\n",
       "      <th>AromaticProportion</th>\n",
       "      <th>logS</th>\n",
       "    </tr>\n",
       "  </thead>\n",
       "  <tbody>\n",
       "    <tr>\n",
       "      <th>count</th>\n",
       "      <td>1144.000000</td>\n",
       "      <td>1144.000000</td>\n",
       "      <td>1144.000000</td>\n",
       "      <td>1144.000000</td>\n",
       "      <td>1144.000000</td>\n",
       "    </tr>\n",
       "    <tr>\n",
       "      <th>mean</th>\n",
       "      <td>2.449133</td>\n",
       "      <td>204.631675</td>\n",
       "      <td>2.173951</td>\n",
       "      <td>0.364932</td>\n",
       "      <td>-3.057997</td>\n",
       "    </tr>\n",
       "    <tr>\n",
       "      <th>std</th>\n",
       "      <td>1.866003</td>\n",
       "      <td>102.620500</td>\n",
       "      <td>2.627398</td>\n",
       "      <td>0.343305</td>\n",
       "      <td>2.096502</td>\n",
       "    </tr>\n",
       "    <tr>\n",
       "      <th>min</th>\n",
       "      <td>-7.571400</td>\n",
       "      <td>16.043000</td>\n",
       "      <td>0.000000</td>\n",
       "      <td>0.000000</td>\n",
       "      <td>-11.600000</td>\n",
       "    </tr>\n",
       "    <tr>\n",
       "      <th>25%</th>\n",
       "      <td>1.414900</td>\n",
       "      <td>122.126000</td>\n",
       "      <td>0.000000</td>\n",
       "      <td>0.000000</td>\n",
       "      <td>-4.332250</td>\n",
       "    </tr>\n",
       "    <tr>\n",
       "      <th>50%</th>\n",
       "      <td>2.340300</td>\n",
       "      <td>183.594500</td>\n",
       "      <td>1.000000</td>\n",
       "      <td>0.375000</td>\n",
       "      <td>-2.870500</td>\n",
       "    </tr>\n",
       "    <tr>\n",
       "      <th>75%</th>\n",
       "      <td>3.406475</td>\n",
       "      <td>270.715750</td>\n",
       "      <td>3.000000</td>\n",
       "      <td>0.666667</td>\n",
       "      <td>-1.600000</td>\n",
       "    </tr>\n",
       "    <tr>\n",
       "      <th>max</th>\n",
       "      <td>10.388600</td>\n",
       "      <td>780.949000</td>\n",
       "      <td>23.000000</td>\n",
       "      <td>1.000000</td>\n",
       "      <td>1.580000</td>\n",
       "    </tr>\n",
       "  </tbody>\n",
       "</table>\n",
       "</div>"
      ],
      "text/plain": [
       "           MolLogP        MolWt  NumRotatableBonds  AromaticProportion  \\\n",
       "count  1144.000000  1144.000000        1144.000000         1144.000000   \n",
       "mean      2.449133   204.631675           2.173951            0.364932   \n",
       "std       1.866003   102.620500           2.627398            0.343305   \n",
       "min      -7.571400    16.043000           0.000000            0.000000   \n",
       "25%       1.414900   122.126000           0.000000            0.000000   \n",
       "50%       2.340300   183.594500           1.000000            0.375000   \n",
       "75%       3.406475   270.715750           3.000000            0.666667   \n",
       "max      10.388600   780.949000          23.000000            1.000000   \n",
       "\n",
       "              logS  \n",
       "count  1144.000000  \n",
       "mean     -3.057997  \n",
       "std       2.096502  \n",
       "min     -11.600000  \n",
       "25%      -4.332250  \n",
       "50%      -2.870500  \n",
       "75%      -1.600000  \n",
       "max       1.580000  "
      ]
     },
     "execution_count": 229,
     "metadata": {},
     "output_type": "execute_result"
    }
   ],
   "source": [
    "df.describe()"
   ]
  },
  {
   "cell_type": "code",
   "execution_count": 230,
   "metadata": {},
   "outputs": [
    {
     "data": {
      "text/html": [
       "<div>\n",
       "<style scoped>\n",
       "    .dataframe tbody tr th:only-of-type {\n",
       "        vertical-align: middle;\n",
       "    }\n",
       "\n",
       "    .dataframe tbody tr th {\n",
       "        vertical-align: top;\n",
       "    }\n",
       "\n",
       "    .dataframe thead th {\n",
       "        text-align: right;\n",
       "    }\n",
       "</style>\n",
       "<table border=\"1\" class=\"dataframe\">\n",
       "  <thead>\n",
       "    <tr style=\"text-align: right;\">\n",
       "      <th></th>\n",
       "      <th>MolLogP</th>\n",
       "      <th>MolWt</th>\n",
       "      <th>NumRotatableBonds</th>\n",
       "      <th>AromaticProportion</th>\n",
       "      <th>logS</th>\n",
       "    </tr>\n",
       "  </thead>\n",
       "  <tbody>\n",
       "    <tr>\n",
       "      <th>Total</th>\n",
       "      <td>0.0</td>\n",
       "      <td>0.0</td>\n",
       "      <td>0.0</td>\n",
       "      <td>0.0</td>\n",
       "      <td>0.0</td>\n",
       "    </tr>\n",
       "    <tr>\n",
       "      <th>Percent</th>\n",
       "      <td>0.0</td>\n",
       "      <td>0.0</td>\n",
       "      <td>0.0</td>\n",
       "      <td>0.0</td>\n",
       "      <td>0.0</td>\n",
       "    </tr>\n",
       "  </tbody>\n",
       "</table>\n",
       "</div>"
      ],
      "text/plain": [
       "         MolLogP  MolWt  NumRotatableBonds  AromaticProportion  logS\n",
       "Total        0.0    0.0                0.0                 0.0   0.0\n",
       "Percent      0.0    0.0                0.0                 0.0   0.0"
      ]
     },
     "execution_count": 230,
     "metadata": {},
     "output_type": "execute_result"
    }
   ],
   "source": [
    "#to check missing values\n",
    "total = df.isnull().sum().sort_values(ascending = False)\n",
    "percent = (df.isnull().sum()/df.isnull().count()*100).sort_values(ascending = False)\n",
    "pd.concat([total, percent], axis=1, keys=['Total', 'Percent']).transpose()\n"
   ]
  },
  {
   "cell_type": "markdown",
   "metadata": {},
   "source": [
    "##### observation: There is no missing values in the data set"
   ]
  },
  {
   "cell_type": "code",
   "execution_count": 231,
   "metadata": {},
   "outputs": [
    {
     "data": {
      "text/plain": [
       "MolLogP               930\n",
       "MolWt                 806\n",
       "NumRotatableBonds      19\n",
       "AromaticProportion     77\n",
       "logS                  743\n",
       "dtype: int64"
      ]
     },
     "execution_count": 231,
     "metadata": {},
     "output_type": "execute_result"
    }
   ],
   "source": [
    "df.nunique()"
   ]
  },
  {
   "cell_type": "markdown",
   "metadata": {},
   "source": [
    "## Data Preparation\n",
    "\n",
    "1. seperateh the target variable from the data set"
   ]
  },
  {
   "cell_type": "code",
   "execution_count": 232,
   "metadata": {},
   "outputs": [
    {
     "data": {
      "text/html": [
       "<div>\n",
       "<style scoped>\n",
       "    .dataframe tbody tr th:only-of-type {\n",
       "        vertical-align: middle;\n",
       "    }\n",
       "\n",
       "    .dataframe tbody tr th {\n",
       "        vertical-align: top;\n",
       "    }\n",
       "\n",
       "    .dataframe thead th {\n",
       "        text-align: right;\n",
       "    }\n",
       "</style>\n",
       "<table border=\"1\" class=\"dataframe\">\n",
       "  <thead>\n",
       "    <tr style=\"text-align: right;\">\n",
       "      <th></th>\n",
       "      <th>MolLogP</th>\n",
       "      <th>MolWt</th>\n",
       "      <th>NumRotatableBonds</th>\n",
       "      <th>AromaticProportion</th>\n",
       "    </tr>\n",
       "  </thead>\n",
       "  <tbody>\n",
       "    <tr>\n",
       "      <th>0</th>\n",
       "      <td>2.5954</td>\n",
       "      <td>167.850</td>\n",
       "      <td>0.0</td>\n",
       "      <td>0.0</td>\n",
       "    </tr>\n",
       "    <tr>\n",
       "      <th>1</th>\n",
       "      <td>2.3765</td>\n",
       "      <td>133.405</td>\n",
       "      <td>0.0</td>\n",
       "      <td>0.0</td>\n",
       "    </tr>\n",
       "    <tr>\n",
       "      <th>2</th>\n",
       "      <td>2.5938</td>\n",
       "      <td>167.850</td>\n",
       "      <td>1.0</td>\n",
       "      <td>0.0</td>\n",
       "    </tr>\n",
       "    <tr>\n",
       "      <th>3</th>\n",
       "      <td>2.0289</td>\n",
       "      <td>133.405</td>\n",
       "      <td>1.0</td>\n",
       "      <td>0.0</td>\n",
       "    </tr>\n",
       "    <tr>\n",
       "      <th>4</th>\n",
       "      <td>2.9189</td>\n",
       "      <td>187.375</td>\n",
       "      <td>1.0</td>\n",
       "      <td>0.0</td>\n",
       "    </tr>\n",
       "  </tbody>\n",
       "</table>\n",
       "</div>"
      ],
      "text/plain": [
       "   MolLogP    MolWt  NumRotatableBonds  AromaticProportion\n",
       "0   2.5954  167.850                0.0                 0.0\n",
       "1   2.3765  133.405                0.0                 0.0\n",
       "2   2.5938  167.850                1.0                 0.0\n",
       "3   2.0289  133.405                1.0                 0.0\n",
       "4   2.9189  187.375                1.0                 0.0"
      ]
     },
     "execution_count": 232,
     "metadata": {},
     "output_type": "execute_result"
    }
   ],
   "source": [
    "#using one hot encoder to convert the non-numeric columns\n",
    "y = df['logS']\n",
    "X = pd.get_dummies(df.drop(\"logS\", axis=1),drop_first=True)\n",
    "X.head(5)"
   ]
  },
  {
   "cell_type": "code",
   "execution_count": 233,
   "metadata": {},
   "outputs": [
    {
     "data": {
      "text/plain": [
       "(1144,)"
      ]
     },
     "execution_count": 233,
     "metadata": {},
     "output_type": "execute_result"
    }
   ],
   "source": [
    "y.shape"
   ]
  },
  {
   "cell_type": "markdown",
   "metadata": {},
   "source": [
    "### let me know if smoking is a factor for thyroid disease"
   ]
  },
  {
   "cell_type": "code",
   "execution_count": 234,
   "metadata": {},
   "outputs": [
    {
     "data": {
      "text/plain": [
       "0      -2.180\n",
       "1      -2.000\n",
       "2      -1.740\n",
       "3      -1.480\n",
       "4      -3.040\n",
       "        ...  \n",
       "1139    1.144\n",
       "1140   -4.925\n",
       "1141   -3.893\n",
       "1142   -3.790\n",
       "1143   -2.581\n",
       "Name: logS, Length: 1144, dtype: float64"
      ]
     },
     "execution_count": 234,
     "metadata": {},
     "output_type": "execute_result"
    }
   ],
   "source": [
    "y"
   ]
  },
  {
   "cell_type": "code",
   "execution_count": 235,
   "metadata": {},
   "outputs": [
    {
     "name": "stdout",
     "output_type": "stream",
     "text": [
      "(915, 4)\n",
      "(229,)\n"
     ]
    }
   ],
   "source": [
    "#splitt data into test and training data\n",
    "from sklearn.model_selection import train_test_split\n",
    "X_train,X_test,y_train,y_test = train_test_split(X,y, test_size=0.2, random_state = 42)\n",
    "\n",
    "print(X_train.shape)\n",
    "print(y_test.shape)\n"
   ]
  },
  {
   "cell_type": "code",
   "execution_count": 236,
   "metadata": {},
   "outputs": [],
   "source": [
    "# x_train,X_test = train_test_split(X, test_size=0.2, random_state = 42)\n",
    "# y_train,y_test = train_test_split(y, test_size=0.2, random_state = 42)\n",
    "\n",
    "# print(x_train.shape)\n",
    "# print(y_test.shape)"
   ]
  },
  {
   "cell_type": "code",
   "execution_count": 237,
   "metadata": {},
   "outputs": [
    {
     "name": "stdout",
     "output_type": "stream",
     "text": [
      "Index([], dtype='object')\n"
     ]
    }
   ],
   "source": [
    "\n",
    "# Check for non-numeric columns\n",
    "non_numeric_columns = X_train.select_dtypes(include=['object']).columns\n",
    "print(non_numeric_columns)\n"
   ]
  },
  {
   "cell_type": "markdown",
   "metadata": {},
   "source": [
    "# Lets Build our model\n",
    "### Training the model\n",
    "## Lets use Linear Regression\n",
    "\n",
    "!. we would use Linear regression model because is a binary classification problem"
   ]
  },
  {
   "cell_type": "code",
   "execution_count": 238,
   "metadata": {},
   "outputs": [
    {
     "data": {
      "text/html": [
       "<style>#sk-container-id-9 {color: black;}#sk-container-id-9 pre{padding: 0;}#sk-container-id-9 div.sk-toggleable {background-color: white;}#sk-container-id-9 label.sk-toggleable__label {cursor: pointer;display: block;width: 100%;margin-bottom: 0;padding: 0.3em;box-sizing: border-box;text-align: center;}#sk-container-id-9 label.sk-toggleable__label-arrow:before {content: \"▸\";float: left;margin-right: 0.25em;color: #696969;}#sk-container-id-9 label.sk-toggleable__label-arrow:hover:before {color: black;}#sk-container-id-9 div.sk-estimator:hover label.sk-toggleable__label-arrow:before {color: black;}#sk-container-id-9 div.sk-toggleable__content {max-height: 0;max-width: 0;overflow: hidden;text-align: left;background-color: #f0f8ff;}#sk-container-id-9 div.sk-toggleable__content pre {margin: 0.2em;color: black;border-radius: 0.25em;background-color: #f0f8ff;}#sk-container-id-9 input.sk-toggleable__control:checked~div.sk-toggleable__content {max-height: 200px;max-width: 100%;overflow: auto;}#sk-container-id-9 input.sk-toggleable__control:checked~label.sk-toggleable__label-arrow:before {content: \"▾\";}#sk-container-id-9 div.sk-estimator input.sk-toggleable__control:checked~label.sk-toggleable__label {background-color: #d4ebff;}#sk-container-id-9 div.sk-label input.sk-toggleable__control:checked~label.sk-toggleable__label {background-color: #d4ebff;}#sk-container-id-9 input.sk-hidden--visually {border: 0;clip: rect(1px 1px 1px 1px);clip: rect(1px, 1px, 1px, 1px);height: 1px;margin: -1px;overflow: hidden;padding: 0;position: absolute;width: 1px;}#sk-container-id-9 div.sk-estimator {font-family: monospace;background-color: #f0f8ff;border: 1px dotted black;border-radius: 0.25em;box-sizing: border-box;margin-bottom: 0.5em;}#sk-container-id-9 div.sk-estimator:hover {background-color: #d4ebff;}#sk-container-id-9 div.sk-parallel-item::after {content: \"\";width: 100%;border-bottom: 1px solid gray;flex-grow: 1;}#sk-container-id-9 div.sk-label:hover label.sk-toggleable__label {background-color: #d4ebff;}#sk-container-id-9 div.sk-serial::before {content: \"\";position: absolute;border-left: 1px solid gray;box-sizing: border-box;top: 0;bottom: 0;left: 50%;z-index: 0;}#sk-container-id-9 div.sk-serial {display: flex;flex-direction: column;align-items: center;background-color: white;padding-right: 0.2em;padding-left: 0.2em;position: relative;}#sk-container-id-9 div.sk-item {position: relative;z-index: 1;}#sk-container-id-9 div.sk-parallel {display: flex;align-items: stretch;justify-content: center;background-color: white;position: relative;}#sk-container-id-9 div.sk-item::before, #sk-container-id-9 div.sk-parallel-item::before {content: \"\";position: absolute;border-left: 1px solid gray;box-sizing: border-box;top: 0;bottom: 0;left: 50%;z-index: -1;}#sk-container-id-9 div.sk-parallel-item {display: flex;flex-direction: column;z-index: 1;position: relative;background-color: white;}#sk-container-id-9 div.sk-parallel-item:first-child::after {align-self: flex-end;width: 50%;}#sk-container-id-9 div.sk-parallel-item:last-child::after {align-self: flex-start;width: 50%;}#sk-container-id-9 div.sk-parallel-item:only-child::after {width: 0;}#sk-container-id-9 div.sk-dashed-wrapped {border: 1px dashed gray;margin: 0 0.4em 0.5em 0.4em;box-sizing: border-box;padding-bottom: 0.4em;background-color: white;}#sk-container-id-9 div.sk-label label {font-family: monospace;font-weight: bold;display: inline-block;line-height: 1.2em;}#sk-container-id-9 div.sk-label-container {text-align: center;}#sk-container-id-9 div.sk-container {/* jupyter's `normalize.less` sets `[hidden] { display: none; }` but bootstrap.min.css set `[hidden] { display: none !important; }` so we also need the `!important` here to be able to override the default hidden behavior on the sphinx rendered scikit-learn.org. See: https://github.com/scikit-learn/scikit-learn/issues/21755 */display: inline-block !important;position: relative;}#sk-container-id-9 div.sk-text-repr-fallback {display: none;}</style><div id=\"sk-container-id-9\" class=\"sk-top-container\"><div class=\"sk-text-repr-fallback\"><pre>LinearRegression()</pre><b>In a Jupyter environment, please rerun this cell to show the HTML representation or trust the notebook. <br />On GitHub, the HTML representation is unable to render, please try loading this page with nbviewer.org.</b></div><div class=\"sk-container\" hidden><div class=\"sk-item\"><div class=\"sk-estimator sk-toggleable\"><input class=\"sk-toggleable__control sk-hidden--visually\" id=\"sk-estimator-id-9\" type=\"checkbox\" checked><label for=\"sk-estimator-id-9\" class=\"sk-toggleable__label sk-toggleable__label-arrow\">LinearRegression</label><div class=\"sk-toggleable__content\"><pre>LinearRegression()</pre></div></div></div></div></div>"
      ],
      "text/plain": [
       "LinearRegression()"
      ]
     },
     "execution_count": 238,
     "metadata": {},
     "output_type": "execute_result"
    }
   ],
   "source": [
    "from sklearn.linear_model import LinearRegression\n",
    "lr  = LinearRegression()\n",
    "lr.fit(X_train,y_train)"
   ]
  },
  {
   "cell_type": "markdown",
   "metadata": {},
   "source": [
    "## Apply our model to make prediction\n"
   ]
  },
  {
   "cell_type": "code",
   "execution_count": 239,
   "metadata": {},
   "outputs": [],
   "source": [
    "# we start with predicting the test data\n",
    "y_lr_train_prediction = lr.predict(X_train)\n",
    "\n",
    "y_lr_test_predictioon = lr.predict(X_test)\n",
    "\n"
   ]
  },
  {
   "cell_type": "code",
   "execution_count": 240,
   "metadata": {},
   "outputs": [
    {
     "data": {
      "text/plain": [
       "array([ -4.47026156,  -5.88839323,  -4.22029229,  -0.79352323,\n",
       "        -1.73062942,  -1.26187649,  -1.43969557,  -2.36087206,\n",
       "        -2.77481055,  -2.23755209,  -4.15424648,  -8.49226359,\n",
       "        -4.26355722,  -1.5773174 ,  -2.61749814,  -0.72935686,\n",
       "        -3.18513222,  -3.71048234,  -1.57995763,  -5.11539503,\n",
       "        -1.90340063,  -4.18841892,  -4.85523085,  -2.13317387,\n",
       "        -3.34701685,  -3.45842365,  -3.73715663,  -3.61882675,\n",
       "        -3.02530867,  -2.82178231,  -1.54861269,  -2.73630968,\n",
       "        -1.79353838,  -6.49056433,  -2.19068424,  -4.10802907,\n",
       "        -2.7303035 ,  -2.28598248,  -2.60739155,  -3.64519507,\n",
       "        -2.65218678,  -4.35285798,   1.91721982,  -3.70871993,\n",
       "        -3.50138017,  -2.71898539,  -4.77720737,  -3.38184768,\n",
       "        -1.71815824,  -2.79713356,  -5.26774517,  -2.96884167,\n",
       "        -2.27709013,  -2.76017539,  -2.12748391,  -2.3140745 ,\n",
       "        -7.74681081,  -3.21253144,  -1.76376134,  -4.17337487,\n",
       "        -2.93249251,  -0.51506669,  -3.06834756,  -0.72788913,\n",
       "        -4.05296417,  -2.03616338,  -2.67036427,  -6.08064174,\n",
       "        -5.49773266,  -2.9647599 ,  -2.96100034,  -2.60084617,\n",
       "        -0.6827446 ,  -4.3585946 ,  -4.0043512 ,  -0.79738924,\n",
       "        -3.34044901,  -1.56377011,  -2.19761587,  -1.11416728,\n",
       "        -1.82672415,  -4.54679498,  -5.39336962,  -3.35057255,\n",
       "        -1.43769254,  -2.59386818,  -5.0338893 ,  -4.99765259,\n",
       "        -4.8997667 ,  -1.16441496,  -2.64509058,   1.39936011,\n",
       "         0.01242659,  -2.20985267,  -1.37887588,  -5.53667654,\n",
       "        -1.44974826,  -0.7796894 ,  -6.55748455,  -3.43117797,\n",
       "        -3.38057188,  -1.44085591,  -3.67783751,  -4.1593352 ,\n",
       "        -2.6803058 ,  -0.58590302,  -4.77815138,  -2.54561346,\n",
       "        -0.42618347,  -0.70287549,  -2.06797098,  -3.00792612,\n",
       "        -2.83552267,  -1.54025749,  -6.01542152,  -1.81446383,\n",
       "        -4.98860572,  -5.1403329 ,  -2.07607676,  -0.56359351,\n",
       "        -0.79092247,  -2.38738366,  -2.87529252,  -4.25585109,\n",
       "        -1.85688211,  -5.47997057,  -0.15237579,  -3.86722215,\n",
       "        -3.40567511,  -1.16828096,  -3.0571832 ,  -2.7303035 ,\n",
       "        -4.85523085,  -1.38125051,  -1.70910714,  -2.93481005,\n",
       "        -2.27419885,  -3.94320804,  -2.91347828,  -3.79600415,\n",
       "        -6.64215698,  -0.82000533,  -3.76867198,  -0.51613106,\n",
       "        -1.81981733,  -3.96125236,  -3.54500416,  -2.37052336,\n",
       "        -3.41259165,  -1.79353838,  -3.39363131,  -1.45279161,\n",
       "        -4.28364627,  -2.44484282,  -1.41163293,  -2.24540864,\n",
       "        -3.01887358,  -5.24422393,  -2.996998  ,  -2.37455166,\n",
       "        -5.14660978,  -7.38690482,  -3.16310546,  -1.98006043,\n",
       "        -4.95579009,   0.04116924,  -2.62183065,  -6.08064174,\n",
       "        -1.93958904,  -1.71610939,  -2.46165126,  -4.32947161,\n",
       "        -2.17947599,  -2.70709475,  -0.24806662,  -3.73405795,\n",
       "        -1.35587169,  -2.04768625,  -1.62686618,  -1.2679672 ,\n",
       "        -4.19146993,  -1.53917269,  -2.39596484,  -2.35071265,\n",
       "        -6.49909096,  -3.43202403,  -1.481193  ,  -7.74681081,\n",
       "        -0.96842783,  -2.74810203,  -1.85208473,  -7.74681081,\n",
       "        -2.8401647 ,  -4.38425128,  -2.65184786,   0.33631985,\n",
       "        -1.53329109,  -1.65450802,  -2.78712359,  -4.84716047,\n",
       "        -1.72676342,  -0.75919502,  -1.481193  ,  -1.05034745,\n",
       "        -1.90619841,  -2.23348727,  -6.62740455,  -0.06538507,\n",
       "        -5.60498883,  -1.73449543,  -3.85457389,  -2.07999886,\n",
       "        -6.03150164,  -2.24778827,  -2.1143171 ,  -1.55596252,\n",
       "        -8.43136399,  -4.17536325,  -2.36563493,  -1.63779456,\n",
       "         1.67007582,  -4.21620768,  -4.924424  ,  -2.50017466,\n",
       "        -2.35141347,  -0.46419517,  -3.96774146,  -3.10324961,\n",
       "        -3.51065394,  -3.69536693,  -1.12854214,  -1.30087645,\n",
       "        -1.53000156,  -6.07970624,  -4.46521697,  -3.22251183,\n",
       "        -0.73940956,  -7.09739995,  -4.25803604,  -2.43277423,\n",
       "        -3.1965235 ,  -1.61659642,  -4.62616911,  -2.95834157,\n",
       "        -1.91765773,  -0.40839263,  -4.91736127,  -3.28614971,\n",
       "        -1.07803388,  -3.64076485,  -3.77107905,   1.92108582,\n",
       "        -2.00278425,  -2.07377475,  -2.83616057,  -3.92125365,\n",
       "        -4.51111905,  -3.46513743,  -1.17917996,  -3.70145519,\n",
       "        -4.27550756,  -3.42396531,  -2.83381209,  -3.71048234,\n",
       "        -2.00868628,  -1.36248095,  -1.88901882,  -1.57229105,\n",
       "        -3.8397806 ,  -3.76065703,  -6.38434339,  -1.16828096,\n",
       "        -1.38125051,  -2.33457807,  -0.58713291,  -2.72417345,\n",
       "        -1.65197886,  -2.69413937,  -7.06434044,  -2.02766608,\n",
       "        -2.35954011,  -6.60306436,  -2.88574916,  -1.07376721,\n",
       "        -0.68405787,  -4.96167141,  -3.84233628,  -3.35723189,\n",
       "        -0.86943094,  -2.78451271,  -4.89319286,  -2.74249638,\n",
       "        -1.84603991,  -5.25301686,  -3.26802654,  -2.14103699,\n",
       "        -4.73977666,  -2.67459189,  -5.71699206,  -7.06434044,\n",
       "        -2.55036771,  -3.68118277,  -3.375713  ,  -5.0338893 ,\n",
       "        -4.68202143,  -1.55596252,  -2.7894697 ,  -1.86811519,\n",
       "        -7.74681081,  -2.28095614,  -1.91048017,  -2.02067903,\n",
       "        -4.03305087,  -3.76121012,  -7.04012802,  -1.62406158,\n",
       "        -2.6231266 ,  -1.34518182,  -2.15318738,  -2.35141347,\n",
       "        -2.19420946,  -2.82380836,  -1.86074812,  -3.50099312,\n",
       "        -5.70731435,  -2.74784805,  -3.12186165,  -4.30890626,\n",
       "        -3.25692838,  -5.52305268,  -3.35550647,  -2.56160078,\n",
       "        -2.92125944,  -1.17330731,  -3.66597529,  -1.23711502,\n",
       "        -6.38434339,  -2.77462455,  -3.84233628,  -2.35071265,\n",
       "        -3.71048234,  -2.33620302,  -0.90164992,  -5.26282707,\n",
       "        -5.52305268,  -2.36563493,  -2.34287242,  -2.54261316,\n",
       "        -3.12176713,  -1.83491641,  -2.15018792,  -3.43345574,\n",
       "        -4.20629271,  -2.72662735,  -3.36855833,  -7.87775312,\n",
       "        -1.76207518,  -2.61032318,  -3.21464743,  -3.39488816,\n",
       "        -3.93974134,  -4.2248324 ,  -8.82772502,  -5.43705526,\n",
       "        -1.848732  ,  -2.77481055,  -3.27359106,   0.44067022,\n",
       "        -2.83873218,  -2.96955729,  -4.30478482,  -2.3092199 ,\n",
       "        -1.91509076,  -1.00077146,  -0.38327695,  -3.79991891,\n",
       "        -4.1204142 ,  -3.24951665,  -2.77634663,   1.91721982,\n",
       "         0.32417829,  -4.54875364,  -2.97377486,  -0.36851783,\n",
       "        -2.06823382,   0.79011482,  -4.82810675,  -3.81759853,\n",
       "        -1.91114922,  -1.99090308,  -0.60264381,  -3.81273111,\n",
       "        -0.42263151,  -1.99294951,  -2.56278227,  -2.15471802,\n",
       "        -2.5685076 ,  -2.5081743 ,  -1.15430254,  -4.40928027,\n",
       "        -3.64519507,   1.67007582,  -3.93153406,  -2.06711975,\n",
       "        -2.76017539,  -5.40996088,  -2.19420946,  -5.70731435,\n",
       "        -1.45154028,  -5.23361072,  -1.99930011,  -9.59731048,\n",
       "        -6.01542152,  -1.45105013,  -3.10413898,  -3.00812684,\n",
       "        -3.61975468,  -3.84233628,  -0.42649751,  -0.89795116,\n",
       "        -3.05785577,  -1.41494749,  -2.29114469,  -1.98006043,\n",
       "        -6.6659937 ,  -2.20148188,  -2.06797098,  -2.91190979,\n",
       "        -3.57036627,  -3.27132367,  -4.61251682,  -2.50017466,\n",
       "        -4.54440128,  -7.23908227,  -3.16310546,  -0.36768006,\n",
       "        -3.49388692,  -1.15380175,  -2.04768625,  -2.46165126,\n",
       "        -2.52335094,  -2.20288627,  -4.23559327,  -0.85263612,\n",
       "        -2.68523832,  -1.60447227,  -1.46022982,  -2.36727673,\n",
       "        -1.20116822,  -3.79048137,  -2.19070906,  -2.08696527,\n",
       "        -4.77546262,  -1.74930816,  -5.0338893 ,  -2.06797098,\n",
       "        -1.06493784,  -4.15371865,  -3.06158669,  -7.99010696,\n",
       "        -9.11768755,  -2.32688291,  -4.16863745,  -5.49773266,\n",
       "        -3.548675  ,  -2.56790562,  -4.70078312,  -1.37166319,\n",
       "        -7.06434044, -10.49468016,  -4.60023022,  -6.53562525,\n",
       "        -3.6601989 ,  -0.41346038,  -2.68734687,  -0.35846514,\n",
       "        -0.58574145,  -4.07743508,  -5.98600738,  -4.32226889,\n",
       "        -0.60387335,  -5.0338893 ,  -3.70654335,  -3.27132367,\n",
       "        -5.78785941,  -0.93501107,  -2.64798186,  -3.10154551,\n",
       "        -1.61870689,  -2.08459955,  -6.97808189,  -2.45591694,\n",
       "        -3.51406764,  -2.82968503,  -2.41344464,  -2.61515974,\n",
       "        -2.38003463,  -4.66705159,  -2.57572244,  -4.33759856,\n",
       "        -1.91006441,  -4.46521697,  -7.74681081,  -1.11030128,\n",
       "        -2.15726467,  -5.73548054,  -1.06124862,  -2.19420946,\n",
       "        -3.81309463,  -2.57572244,  -2.31309862,  -5.0338893 ,\n",
       "        -0.61285422,  -2.22297645,  -2.46334829,  -3.06330591,\n",
       "        -1.5773174 ,  -1.65197886,  -2.37433232,  -3.36042503,\n",
       "        -2.64006423,  -2.56091111,  -3.90832695,  -1.8269682 ,\n",
       "        -1.56074582,  -4.28738168,  -1.8310504 ,  -1.71111017,\n",
       "        -1.26690284,  -3.85517799,  -4.74313811,  -0.73713926,\n",
       "        -6.58575354,  -2.62282807,  -4.45989073,  -1.11030128,\n",
       "        -1.20642568,  -2.30287249,  -2.65359735,  -2.68618653,\n",
       "        -4.62104159,  -1.96319875,  -4.71721703,  -3.93153406,\n",
       "        -7.74681081,  -1.43582956,  -1.3059028 ,  -1.64887025,\n",
       "        -0.74457998,  -4.09240259,  -4.50244048,  -3.20329668,\n",
       "        -5.82903696,  -1.5471222 ,  -2.49148584,  -5.7573019 ,\n",
       "        -3.94205374,  -2.50017466,  -2.72015257,  -2.05153285,\n",
       "        -1.06680081,  -2.33457807,  -3.43044204,  -3.84042681,\n",
       "        -4.01906648,  -3.76910722,  -3.79048137,  -1.81345419,\n",
       "        -2.63375786,  -5.05314827,  -5.69143845,  -2.30714445,\n",
       "        -4.19146993,  -0.14021299,  -1.63779456,  -3.71728369,\n",
       "        -0.44524761,  -3.38680153,  -5.02993444,   0.69126698,\n",
       "        -2.96920217,  -1.80858426,  -1.64282091,  -1.27405085,\n",
       "        -0.559093  ,  -2.69096096,  -1.62825992,  -5.26027744,\n",
       "        -0.40377133,  -2.28598248,  -3.27132367,  -2.2291902 ,\n",
       "        -1.38171588,  -6.02231728,  -5.98901432,  -0.92998473,\n",
       "        -5.74434197,  -0.57066984,  -2.77481055,  -1.31048759,\n",
       "        -6.02669642,  -3.25962057,  -2.30427287,  -2.50075203,\n",
       "        -1.83711529,  -1.72387462,  -2.62963114,  -3.7153833 ,\n",
       "        -0.31496467,  -1.34135166,  -3.12186165,  -4.59900602,\n",
       "        -4.4730887 ,  -1.98052174,  -1.58396613,  -1.53178706,\n",
       "        -0.40670536,  -5.70731435,  -1.75908042,  -3.64519507,\n",
       "        -3.0542821 ,  -1.63276821,  -1.46197851,  -1.51311018,\n",
       "        -3.55504124,  -3.11633511,  -6.08562232,  -2.54329156,\n",
       "        -3.01203147,  -2.8694715 ,  -3.02273851,  -3.59107434,\n",
       "        -9.11768755,  -1.82784389,  -5.70731435,  -2.66239677,\n",
       "        -3.68657785,  -3.16036142,  -3.07201008,  -2.22297645,\n",
       "        -4.17374456,  -3.34420736,  -4.60015378,  -0.53725099,\n",
       "        -4.01906648,  -3.88122514,  -0.73940956,  -2.41857797,\n",
       "        -1.3059028 ,  -6.45144634,  -4.48924825,  -3.04529463,\n",
       "        -1.98006043,  -4.18387959,  -1.2738525 ,  -1.5873701 ,\n",
       "        -2.35299784,  -2.86707273,  -5.20052711,  -4.46521697,\n",
       "        -1.481193  ,  -5.44227052,  -0.69088274,  -5.49773266,\n",
       "        -3.13820552,  -7.17419395,  -0.89098476,  -3.53262945,\n",
       "         0.61477871,   0.86184109,  -4.0467486 ,  -7.06434044,\n",
       "        -7.06434044,  -3.18284392,  -2.7894697 ,  -2.63557668,\n",
       "        -5.78857332,  -3.33565163,  -3.8857187 ,  -1.54861269,\n",
       "        -1.81555066,  -0.98859891,  -2.06797098,  -8.43136399,\n",
       "        -3.9119996 ,  -3.47220115,  -7.74681081,  -3.02229001,\n",
       "        -3.00812684,  -3.72143923,  -1.08259412,   1.83903554,\n",
       "        -4.94659378,  -2.03860676,  -1.91006441,  -1.54419903,\n",
       "        -4.07454661,  -3.36350595,  -8.43136399,  -3.12186165,\n",
       "        -3.81759853,  -5.51477025,  -4.38368755,  -1.70320929,\n",
       "        -1.91153719,  -2.50817762,  -1.81446383,  -0.80326189,\n",
       "        -5.46123669,  -3.71048234,  -2.36146616,  -3.6747576 ,\n",
       "        -2.14603388,  -2.91117586,  -3.94459815,  -0.84735767,\n",
       "        -0.39350653,  -1.677577  ,  -1.67679452,  -0.83817418,\n",
       "        -2.35534523,  -5.43936784,  -4.13826279,  -3.66597529,\n",
       "        -1.54281589,  -2.36743662,  -3.46619611,  -5.09066785,\n",
       "        -5.48114575,  -2.75474924,  -5.42680103,  -3.35723189,\n",
       "        -2.06797098,  -3.3904358 ,  -5.17356992,  -2.79534017,\n",
       "        -1.89828078,  -1.22352785,  -3.50099312,  -1.43969557,\n",
       "        -2.49849389,  -4.1360437 ,  -7.14397785,  -3.46083645,\n",
       "        -0.98497997,  -1.35587169,  -4.07454661,  -4.61251682,\n",
       "        -1.85208473,  -2.61866301,  -5.29107212,  -3.1965235 ,\n",
       "        -3.27746087,  -5.07527594,  -4.25048903,  -2.65147251,\n",
       "        -3.32127905,  -0.23647355,  -5.91413327,  -2.19068424,\n",
       "        -7.37196013,  -4.38857815,  -0.47671805,  -1.67679452,\n",
       "        -2.07117081,  -2.72181274,  -1.54861269,  -2.45093906,\n",
       "        -2.48465946,  -1.67176817,  -2.57572244,  -5.02748194,\n",
       "        -4.90448624,   0.56245321,  -2.8027074 ,  -1.87750948,\n",
       "        -1.96319875,  -6.66998091,  -4.31972746,  -2.96884167,\n",
       "        -5.5316502 ,  -5.86637547,  -1.69269129,  -4.41405006,\n",
       "        -7.11712268,  -6.09319848,  -4.31519643,  -2.54761649,\n",
       "        -1.53530668,  -2.07607676,  -4.5148785 ,  -1.14408375,\n",
       "        -3.39488816,  -5.56547812,  -1.08606044,  -2.75462039,\n",
       "        -4.24516685,  -6.02353301,  -1.45397923,  -3.43202403,\n",
       "        -5.44268474,  -3.7144253 ,  -3.19413921,  -3.73352659,\n",
       "        -2.72015257,   0.60831683,  -4.54440128,  -2.58093883,\n",
       "        -4.1360437 ,  -4.32947161,  -2.72900687,  -3.44742174,\n",
       "        -5.24205073,  -0.05173979,  -6.49171278,  -1.93668452,\n",
       "        -5.28798984,  -4.37718345,  -3.00792612,  -2.86163393,\n",
       "        -1.96608945,  -4.65921669,  -5.14453946,  -3.43141273,\n",
       "        -4.36489994,  -2.73235789,  -3.13523805,  -2.30714445,\n",
       "        -2.46399409,  -1.91509076,   0.81803038,  -1.43582956,\n",
       "        -3.39898025,  -4.61071054,  -7.13939426,  -4.63484209,\n",
       "        -3.96854426,  -2.59866556,  -4.60015378,   0.01412321,\n",
       "        -3.53165487,   1.85537737,  -2.49148584,  -0.73322286,\n",
       "        -1.91006441,  -4.48685389,  -0.07435588,  -2.08696527,\n",
       "        -4.92147551,  -5.98649699,  -3.29730089,  -1.71607354,\n",
       "        -3.33565163,  -3.12186165,  -1.11030128,  -1.82368334,\n",
       "        -1.83789658,  -3.31076844,  -6.39498589,  -2.04073667,\n",
       "        -2.49849389,   2.43894553,  -1.22948407,  -2.88574916,\n",
       "        -1.65197886,  -4.31872905,  -2.92904674,  -3.10136443,\n",
       "        -4.38861114,  -1.81446383,  -4.40209507,  -3.77984724,\n",
       "        -4.61251682,  -6.0956394 ,  -3.56222389,  -4.30634669,\n",
       "        -0.28065278,  -5.70731435,  -1.14408375,  -4.01906648,\n",
       "        -2.65539053,  -1.881233  ,  -4.79734732,  -4.17804694,\n",
       "        -7.77761196,  -4.19072144,  -3.27827865,  -3.55522754,\n",
       "        -3.92244881,  -2.57137416,  -4.62318643,  -3.93846687,\n",
       "        -4.89499214,  -3.11689297,  -2.28095614,  -2.27607169,\n",
       "        -2.83891735,  -1.1618142 ,  -4.13704407,  -1.35779931,\n",
       "        -1.87936647,  -5.78785941,  -6.34984501,  -7.74681081,\n",
       "        -4.13662421,  -1.97942716,  -1.36335664,  -0.33198376,\n",
       "        -1.10024859,  -6.38434339,  -3.79262872,  -2.70826013,\n",
       "        -5.07527594,  -4.8173216 ,  -7.04654449])"
      ]
     },
     "execution_count": 240,
     "metadata": {},
     "output_type": "execute_result"
    }
   ],
   "source": [
    "y_lr_train_prediction"
   ]
  },
  {
   "cell_type": "code",
   "execution_count": 241,
   "metadata": {},
   "outputs": [
    {
     "data": {
      "text/plain": [
       "array([-1.53917269, -6.08287944, -5.28375883, -3.27746087, -1.70320929,\n",
       "       -5.63167711, -1.43239582, -2.74544339, -3.43274443, -3.79048137,\n",
       "       -1.26884289, -1.54861269, -3.72258406, -3.25962057, -3.76344744,\n",
       "       -2.13317387, -2.00365994, -4.80828381, -1.43582956, -2.81358533,\n",
       "       -2.37870232, -1.45080608, -3.71048234, -3.06158669, -1.12854214,\n",
       "       -1.11007232, -2.45566761, -5.0338893 , -3.29087978, -4.21832264,\n",
       "       -2.45834377, -3.09200621, -3.89726792, -1.85208473, -2.17761301,\n",
       "       -6.01542152, -1.06493784, -2.35071265, -1.72034021, -1.45695216,\n",
       "       -1.85208473, -6.66998091, -1.23899725, -1.46015868, -1.65115215,\n",
       "       -3.79048137, -4.73551134, -1.09859266, -0.69404611, -1.91048017,\n",
       "       -3.16121056, -2.34753749, -2.01980335, -2.51436431, -7.04012802,\n",
       "       -5.27488937, -4.18979204, -2.9647599 , -1.7364388 , -1.64388527,\n",
       "       -4.60884756, -4.84900677, -0.18955927, -1.73839902, -1.63779456,\n",
       "       -2.01616982, -1.46391856, -7.64117637, -1.34518182, -2.28204094,\n",
       "       -4.61251682, -3.68259142, -3.22251183, -5.16075847, -2.1483811 ,\n",
       "       -2.07607676, -1.81561364, -2.35312712, -5.03153948, -5.35648355,\n",
       "       -0.81613933, -3.67501678, -5.63795589, -0.78415377, -3.13201883,\n",
       "       -1.81174763, -5.14700571,  1.13125267, -0.47305289, -3.93153406,\n",
       "       -4.8733322 , -1.17801962, -2.15050196, -2.58388566,  1.12994853,\n",
       "       -8.66482607, -3.8983998 , -1.59441957, -2.20288627, -5.26282707,\n",
       "       -2.76987509, -5.42806373, -1.27911139, -2.33457807, -4.6588233 ,\n",
       "       -7.26140165, -5.34312066, -0.66718494, -6.38434339, -4.01980772,\n",
       "       -2.46854687, -5.3318694 , -4.60015378, -6.37044332, -2.33428187,\n",
       "       -1.91765773, -2.22777384, -2.07999886, -3.3320867 , -0.75919502,\n",
       "       -1.01798361, -2.98085644, -4.37252867, -5.3111226 , -2.72015257,\n",
       "       -2.70246249, -1.61121439,  1.40322611, -4.2837828 , -3.89106644,\n",
       "       -0.7259909 , -2.29209364, -3.22644351, -0.39254905, -3.1498734 ,\n",
       "       -5.70731435, -5.29651733, -1.75260761, -1.43582956, -2.72900687,\n",
       "       -3.92961996, -3.74280639, -1.9653113 , -1.33821542, -3.89726792,\n",
       "       -6.08562232, -4.4730887 , -4.54440128, -6.67351198, -3.12186165,\n",
       "       -1.44588226, -1.44892561, -1.63121936, -2.09005156, -6.08562232,\n",
       "       -4.29427126, -2.07752796, -3.58240751, -1.07499053, -4.92907534,\n",
       "       -6.49056433, -1.06880384, -2.46094328, -3.05417721, -4.9802434 ,\n",
       "       -5.77353535, -3.97932544, -2.35071265, -2.28890565, -0.84735767,\n",
       "       -2.82178231, -1.43582956, -0.98497997, -4.19034629, -2.51659019,\n",
       "       -6.02394669, -2.72733014, -2.13423693, -4.61167881, -2.54561346,\n",
       "       -3.48722684, -2.72733014, -0.89204913, -2.16864249, -4.36489994,\n",
       "       -4.19146993, -0.53725099, -0.96961412, -5.05314827, -1.0193366 ,\n",
       "       -6.38434339, -3.46506424, -1.91048017, -1.31048759, -2.19960141,\n",
       "       -2.36072985, -4.89274622, -1.70320929, -0.10079998, -2.09823418,\n",
       "       -3.58726393, -1.50010279, -2.02346393, -2.37957801, -1.63988079,\n",
       "       -2.36563493, -1.36979039, -4.74043162, -2.80897252, -1.54419903,\n",
       "       -2.12829672, -2.59386818, -3.72312418, -3.71134074, -3.29215116,\n",
       "       -2.72733014, -3.29183556, -3.2715436 , -3.79048137, -3.65309971,\n",
       "       -2.08696527, -2.46165126, -6.49056433, -1.71743786,  0.22974901,\n",
       "       -1.91509076, -3.00635454, -3.10567883, -1.48599039])"
      ]
     },
     "execution_count": 241,
     "metadata": {},
     "output_type": "execute_result"
    }
   ],
   "source": [
    "\n",
    "y_lr_test_predictioon"
   ]
  },
  {
   "cell_type": "markdown",
   "metadata": {},
   "source": [
    "## lets compare our model reslut performance with the actual data we have"
   ]
  },
  {
   "cell_type": "code",
   "execution_count": 242,
   "metadata": {},
   "outputs": [],
   "source": [
    "from sklearn.metrics import accuracy_score, mean_squared_error, r2_score\n"
   ]
  },
  {
   "cell_type": "code",
   "execution_count": 243,
   "metadata": {},
   "outputs": [
    {
     "name": "stdout",
     "output_type": "stream",
     "text": [
      "1.0139894491573003 0.7695127746587307\n",
      "0.9990844407075307 0.7705650058569231\n"
     ]
    }
   ],
   "source": [
    "y_log_train_MSE = mean_squared_error(y_train,y_lr_train_prediction)\n",
    "y_log_train_r2 = r2_score(y_train,y_lr_train_prediction)\n",
    "\n",
    "y_log_test_MSE = mean_squared_error(y_test,y_lr_test_predictioon)\n",
    "y_log_test_r2 = r2_score(y_test,y_lr_test_predictioon)\n",
    "\n",
    "print(y_log_train_MSE, y_log_train_r2 )\n",
    "print(y_log_test_MSE, y_log_test_r2 )\n"
   ]
  },
  {
   "cell_type": "code",
   "execution_count": 244,
   "metadata": {},
   "outputs": [
    {
     "data": {
      "text/html": [
       "<div>\n",
       "<style scoped>\n",
       "    .dataframe tbody tr th:only-of-type {\n",
       "        vertical-align: middle;\n",
       "    }\n",
       "\n",
       "    .dataframe tbody tr th {\n",
       "        vertical-align: top;\n",
       "    }\n",
       "\n",
       "    .dataframe thead th {\n",
       "        text-align: right;\n",
       "    }\n",
       "</style>\n",
       "<table border=\"1\" class=\"dataframe\">\n",
       "  <thead>\n",
       "    <tr style=\"text-align: right;\">\n",
       "      <th></th>\n",
       "      <th>0</th>\n",
       "      <th>1</th>\n",
       "      <th>2</th>\n",
       "      <th>3</th>\n",
       "      <th>4</th>\n",
       "    </tr>\n",
       "  </thead>\n",
       "  <tbody>\n",
       "    <tr>\n",
       "      <th>0</th>\n",
       "      <td>LinearRegression</td>\n",
       "      <td>1.013989</td>\n",
       "      <td>0.769513</td>\n",
       "      <td>0.999084</td>\n",
       "      <td>0.770565</td>\n",
       "    </tr>\n",
       "  </tbody>\n",
       "</table>\n",
       "</div>"
      ],
      "text/plain": [
       "                  0         1         2         3         4\n",
       "0  LinearRegression  1.013989  0.769513  0.999084  0.770565"
      ]
     },
     "execution_count": 244,
     "metadata": {},
     "output_type": "execute_result"
    }
   ],
   "source": [
    "#convert it to dataframe\n",
    "linear_regression_result = pd.DataFrame((\"LinearRegression\", y_log_train_MSE, y_log_train_r2, y_log_test_MSE, y_log_test_r2 )).transpose()\n",
    "linear_regression_result"
   ]
  },
  {
   "cell_type": "code",
   "execution_count": 245,
   "metadata": {},
   "outputs": [
    {
     "data": {
      "text/html": [
       "<div>\n",
       "<style scoped>\n",
       "    .dataframe tbody tr th:only-of-type {\n",
       "        vertical-align: middle;\n",
       "    }\n",
       "\n",
       "    .dataframe tbody tr th {\n",
       "        vertical-align: top;\n",
       "    }\n",
       "\n",
       "    .dataframe thead th {\n",
       "        text-align: right;\n",
       "    }\n",
       "</style>\n",
       "<table border=\"1\" class=\"dataframe\">\n",
       "  <thead>\n",
       "    <tr style=\"text-align: right;\">\n",
       "      <th></th>\n",
       "      <th>Method</th>\n",
       "      <th>Train MSE</th>\n",
       "      <th>Train R2</th>\n",
       "      <th>Test MSE</th>\n",
       "      <th>Test R2</th>\n",
       "    </tr>\n",
       "  </thead>\n",
       "  <tbody>\n",
       "    <tr>\n",
       "      <th>0</th>\n",
       "      <td>LinearRegression</td>\n",
       "      <td>1.013989</td>\n",
       "      <td>0.769513</td>\n",
       "      <td>0.999084</td>\n",
       "      <td>0.770565</td>\n",
       "    </tr>\n",
       "  </tbody>\n",
       "</table>\n",
       "</div>"
      ],
      "text/plain": [
       "             Method Train MSE  Train R2  Test MSE   Test R2\n",
       "0  LinearRegression  1.013989  0.769513  0.999084  0.770565"
      ]
     },
     "execution_count": 245,
     "metadata": {},
     "output_type": "execute_result"
    }
   ],
   "source": [
    "#change the column name\n",
    "\n",
    "linear_regression_result.columns = [\"Method\", \"Train MSE\", \"Train R2\", \"Test MSE\", \"Test R2\"]\n",
    "\n",
    "linear_regression_result"
   ]
  },
  {
   "cell_type": "markdown",
   "metadata": {},
   "source": [
    "## Lets use the  Raandom Forst model\n",
    "\n",
    "1. Train model\n",
    "2. Apply model\n",
    "3. evaluate model"
   ]
  },
  {
   "cell_type": "markdown",
   "metadata": {},
   "source": [
    "#### Train model "
   ]
  },
  {
   "cell_type": "code",
   "execution_count": 246,
   "metadata": {},
   "outputs": [],
   "source": [
    "from sklearn.ensemble import RandomForestRegressor as R"
   ]
  },
  {
   "cell_type": "code",
   "execution_count": 247,
   "metadata": {},
   "outputs": [
    {
     "data": {
      "text/html": [
       "<style>#sk-container-id-10 {color: black;}#sk-container-id-10 pre{padding: 0;}#sk-container-id-10 div.sk-toggleable {background-color: white;}#sk-container-id-10 label.sk-toggleable__label {cursor: pointer;display: block;width: 100%;margin-bottom: 0;padding: 0.3em;box-sizing: border-box;text-align: center;}#sk-container-id-10 label.sk-toggleable__label-arrow:before {content: \"▸\";float: left;margin-right: 0.25em;color: #696969;}#sk-container-id-10 label.sk-toggleable__label-arrow:hover:before {color: black;}#sk-container-id-10 div.sk-estimator:hover label.sk-toggleable__label-arrow:before {color: black;}#sk-container-id-10 div.sk-toggleable__content {max-height: 0;max-width: 0;overflow: hidden;text-align: left;background-color: #f0f8ff;}#sk-container-id-10 div.sk-toggleable__content pre {margin: 0.2em;color: black;border-radius: 0.25em;background-color: #f0f8ff;}#sk-container-id-10 input.sk-toggleable__control:checked~div.sk-toggleable__content {max-height: 200px;max-width: 100%;overflow: auto;}#sk-container-id-10 input.sk-toggleable__control:checked~label.sk-toggleable__label-arrow:before {content: \"▾\";}#sk-container-id-10 div.sk-estimator input.sk-toggleable__control:checked~label.sk-toggleable__label {background-color: #d4ebff;}#sk-container-id-10 div.sk-label input.sk-toggleable__control:checked~label.sk-toggleable__label {background-color: #d4ebff;}#sk-container-id-10 input.sk-hidden--visually {border: 0;clip: rect(1px 1px 1px 1px);clip: rect(1px, 1px, 1px, 1px);height: 1px;margin: -1px;overflow: hidden;padding: 0;position: absolute;width: 1px;}#sk-container-id-10 div.sk-estimator {font-family: monospace;background-color: #f0f8ff;border: 1px dotted black;border-radius: 0.25em;box-sizing: border-box;margin-bottom: 0.5em;}#sk-container-id-10 div.sk-estimator:hover {background-color: #d4ebff;}#sk-container-id-10 div.sk-parallel-item::after {content: \"\";width: 100%;border-bottom: 1px solid gray;flex-grow: 1;}#sk-container-id-10 div.sk-label:hover label.sk-toggleable__label {background-color: #d4ebff;}#sk-container-id-10 div.sk-serial::before {content: \"\";position: absolute;border-left: 1px solid gray;box-sizing: border-box;top: 0;bottom: 0;left: 50%;z-index: 0;}#sk-container-id-10 div.sk-serial {display: flex;flex-direction: column;align-items: center;background-color: white;padding-right: 0.2em;padding-left: 0.2em;position: relative;}#sk-container-id-10 div.sk-item {position: relative;z-index: 1;}#sk-container-id-10 div.sk-parallel {display: flex;align-items: stretch;justify-content: center;background-color: white;position: relative;}#sk-container-id-10 div.sk-item::before, #sk-container-id-10 div.sk-parallel-item::before {content: \"\";position: absolute;border-left: 1px solid gray;box-sizing: border-box;top: 0;bottom: 0;left: 50%;z-index: -1;}#sk-container-id-10 div.sk-parallel-item {display: flex;flex-direction: column;z-index: 1;position: relative;background-color: white;}#sk-container-id-10 div.sk-parallel-item:first-child::after {align-self: flex-end;width: 50%;}#sk-container-id-10 div.sk-parallel-item:last-child::after {align-self: flex-start;width: 50%;}#sk-container-id-10 div.sk-parallel-item:only-child::after {width: 0;}#sk-container-id-10 div.sk-dashed-wrapped {border: 1px dashed gray;margin: 0 0.4em 0.5em 0.4em;box-sizing: border-box;padding-bottom: 0.4em;background-color: white;}#sk-container-id-10 div.sk-label label {font-family: monospace;font-weight: bold;display: inline-block;line-height: 1.2em;}#sk-container-id-10 div.sk-label-container {text-align: center;}#sk-container-id-10 div.sk-container {/* jupyter's `normalize.less` sets `[hidden] { display: none; }` but bootstrap.min.css set `[hidden] { display: none !important; }` so we also need the `!important` here to be able to override the default hidden behavior on the sphinx rendered scikit-learn.org. See: https://github.com/scikit-learn/scikit-learn/issues/21755 */display: inline-block !important;position: relative;}#sk-container-id-10 div.sk-text-repr-fallback {display: none;}</style><div id=\"sk-container-id-10\" class=\"sk-top-container\"><div class=\"sk-text-repr-fallback\"><pre>RandomForestRegressor(max_depth=2, random_state=100)</pre><b>In a Jupyter environment, please rerun this cell to show the HTML representation or trust the notebook. <br />On GitHub, the HTML representation is unable to render, please try loading this page with nbviewer.org.</b></div><div class=\"sk-container\" hidden><div class=\"sk-item\"><div class=\"sk-estimator sk-toggleable\"><input class=\"sk-toggleable__control sk-hidden--visually\" id=\"sk-estimator-id-10\" type=\"checkbox\" checked><label for=\"sk-estimator-id-10\" class=\"sk-toggleable__label sk-toggleable__label-arrow\">RandomForestRegressor</label><div class=\"sk-toggleable__content\"><pre>RandomForestRegressor(max_depth=2, random_state=100)</pre></div></div></div></div></div>"
      ],
      "text/plain": [
       "RandomForestRegressor(max_depth=2, random_state=100)"
      ]
     },
     "execution_count": 247,
     "metadata": {},
     "output_type": "execute_result"
    }
   ],
   "source": [
    "rf = R(max_depth=2,random_state=100)\n",
    "rf.fit(X_train,y_train)"
   ]
  },
  {
   "cell_type": "markdown",
   "metadata": {},
   "source": [
    "### Apply the model to make predictioon"
   ]
  },
  {
   "cell_type": "markdown",
   "metadata": {},
   "source": [
    "### evaluate the model"
   ]
  },
  {
   "cell_type": "code",
   "execution_count": 248,
   "metadata": {},
   "outputs": [
    {
     "data": {
      "text/plain": [
       "array([-1.33950462, -6.98577329, -4.39406068, -2.62909993, -1.35145256,\n",
       "       -5.44303134, -1.35145256, -4.1790564 , -2.47266096, -4.33728987,\n",
       "       -1.36550305, -1.35145256, -2.68110568, -2.8547836 , -3.70848106,\n",
       "       -1.48334237, -2.49354382, -4.39406068, -1.25181203, -2.66705519,\n",
       "       -2.49354382, -1.35145256, -4.39406068, -3.52046149, -1.17794119,\n",
       "       -1.17794119, -2.49354382, -5.44303134, -2.62909993, -4.1790564 ,\n",
       "       -1.48334237, -2.68110568, -4.37313972, -1.69041032, -2.66705519,\n",
       "       -7.01386075, -1.17794119, -2.47146521, -2.29709247, -1.64276102,\n",
       "       -1.69041032, -7.01386075, -1.36550305, -1.30996483, -2.29709247,\n",
       "       -4.33728987, -4.09424671, -1.36550305, -1.17794119, -1.38179394,\n",
       "       -3.60378319, -2.66705519, -1.36550305, -1.52706648, -7.01386075,\n",
       "       -5.46984259, -4.07753611, -3.70848106, -1.25253761, -1.36550305,\n",
       "       -4.39406068, -4.39406068, -1.17794119, -1.33950462, -2.29709247,\n",
       "       -1.48347619, -1.36550305, -7.01386075, -1.36550305, -1.39584443,\n",
       "       -5.12506004, -4.39406068, -2.68110568, -5.41614062, -1.36550305,\n",
       "       -1.33950462, -2.2850991 , -1.36550305, -5.44303134, -5.44303134,\n",
       "       -1.17794119, -2.68110568, -5.77629399, -1.36550305, -2.68110568,\n",
       "       -2.2850991 , -4.39406068, -1.33676149, -1.36550305, -4.39406068,\n",
       "       -5.80374552, -1.1935721 , -1.69041032, -1.52706648, -1.35145256,\n",
       "       -7.01386075, -4.06327457, -2.2850991 , -2.49354382, -4.39406068,\n",
       "       -2.48465432, -4.39406068, -1.35145256, -2.47060383, -4.39406068,\n",
       "       -7.01386075, -5.44303134, -1.33676149, -7.01386075, -4.39406068,\n",
       "       -2.66705519, -4.39406068, -4.68874923, -7.01386075, -1.36550305,\n",
       "       -1.41063233, -2.66705519, -2.49354382, -2.68110568, -1.17794119,\n",
       "       -1.33676149, -2.66705519, -2.68110568, -5.44303134, -2.66705519,\n",
       "       -1.39584443, -1.64276102, -1.36550305, -4.37313972, -4.39406068,\n",
       "       -1.35145256, -1.39584443, -2.68110568, -1.17794119, -2.62909993,\n",
       "       -7.01386075, -4.39406068, -1.49832493, -1.25181203, -2.65236412,\n",
       "       -1.52706648, -4.09424671, -2.49354382, -1.33950462, -4.37313972,\n",
       "       -7.01386075, -4.39406068, -4.39406068, -7.01386075, -2.66705519,\n",
       "       -1.25181203, -1.33950462, -1.20828257, -2.49354382, -7.01386075,\n",
       "       -4.39406068, -1.64276102, -2.50020677, -1.17794119, -4.39406068,\n",
       "       -7.01386075, -1.17794119, -3.58839215, -1.52706648, -4.39406068,\n",
       "       -6.90556761, -4.39406068, -2.47146521, -2.65236412, -1.35145256,\n",
       "       -4.3016489 , -1.25181203, -1.17794119, -4.06327457, -1.36550305,\n",
       "       -6.98577329, -2.66705519, -1.51301599, -4.39406068, -3.58839215,\n",
       "       -4.39406068, -2.66705519, -1.36550305, -1.33950462, -4.39406068,\n",
       "       -4.39406068, -1.36550305, -1.35145256, -4.39406068, -1.33676149,\n",
       "       -7.01386075, -3.36592128, -1.38179394, -1.35145256, -2.49354382,\n",
       "       -2.56814024, -5.44303134, -1.35145256, -1.17794119, -2.51816082,\n",
       "       -4.33728987, -1.33950462, -1.33950462, -2.68157965, -1.36550305,\n",
       "       -2.45591277, -1.25181203, -4.39406068, -2.68110568, -1.33950462,\n",
       "       -2.51816082, -2.66705519, -2.68110568, -4.39406068, -4.39406068,\n",
       "       -2.66705519, -2.68110568, -2.68110568, -4.33728987, -4.1790564 ,\n",
       "       -1.38113396, -2.50346976, -7.01386075, -1.20828257, -1.17794119,\n",
       "       -2.29709247, -2.66365457, -4.37313972, -1.25181203])"
      ]
     },
     "execution_count": 248,
     "metadata": {},
     "output_type": "execute_result"
    }
   ],
   "source": [
    "y_rf_test_pred = rf.predict(X_test)\n",
    "y_rf_test_pred"
   ]
  },
  {
   "cell_type": "code",
   "execution_count": 249,
   "metadata": {},
   "outputs": [
    {
     "data": {
      "text/plain": [
       "array([-4.39406068, -7.01386075, -4.1790564 , -1.17794119, -2.2850991 ,\n",
       "       -1.33950462, -1.25181203, -2.66705519, -2.65236412, -2.31264491,\n",
       "       -4.1790564 , -7.01386075, -4.06327457, -1.33950462, -2.62909993,\n",
       "       -1.17794119, -2.68110568, -4.39406068, -1.48786212, -5.44303134,\n",
       "       -1.36708347, -4.39406068, -5.41614062, -1.48334237, -4.33728987,\n",
       "       -4.09424671, -2.68110568, -2.48465432, -2.48465432, -4.3016489 ,\n",
       "       -1.35145256, -2.68110568, -2.29709247, -7.01386075, -1.51301599,\n",
       "       -4.33728987, -2.65236412, -2.66705519, -1.52706648, -4.09424671,\n",
       "       -2.66705519, -4.39406068, -1.36550305, -4.39406068, -3.60378319,\n",
       "       -2.65236412, -4.39406068, -4.39406068, -1.35145256, -2.68110568,\n",
       "       -5.44303134, -3.50229491, -2.66705519, -2.66705519, -1.36550305,\n",
       "       -2.65236412, -7.01386075, -2.68110568, -1.36550305, -4.09424671,\n",
       "       -4.21302627, -1.17794119, -2.68110568, -1.35145256, -4.1790564 ,\n",
       "       -1.51301599, -1.36550305, -7.01386075, -6.90556761, -3.70848106,\n",
       "       -1.52706648, -2.47609271, -1.36550305, -3.92155071, -4.07753611,\n",
       "       -1.17794119, -4.33728987, -1.35145256, -2.48465432, -1.17794119,\n",
       "       -1.46929188, -4.39406068, -4.39406068, -2.68110568, -2.2850991 ,\n",
       "       -2.66705519, -5.44303134, -4.39406068, -5.44303134, -1.17794119,\n",
       "       -4.07753611, -1.36550305, -1.17794119, -1.39584443, -1.36550305,\n",
       "       -5.44303134, -1.25181203, -1.17794119, -7.01386075, -2.68110568,\n",
       "       -4.1790564 , -1.25181203, -4.33728987, -3.69041159, -1.49752668,\n",
       "       -1.36550305, -4.1790564 , -3.58839215, -1.17794119, -1.36550305,\n",
       "       -1.33950462, -2.66705519, -2.62909993, -1.36550305, -7.01386075,\n",
       "       -1.36708347, -4.39406068, -5.44303134, -1.33950462, -1.17794119,\n",
       "       -1.17794119, -2.61504944, -2.68110568, -4.39406068, -2.4439194 ,\n",
       "       -4.39406068, -1.17794119, -3.52046149, -2.68110568, -1.17794119,\n",
       "       -2.68110568, -2.65236412, -5.41614062, -1.17794119, -2.44153808,\n",
       "       -2.62909993, -2.49354382, -2.68110568, -3.4357199 , -2.48465432,\n",
       "       -7.01386075, -1.17794119, -3.44977039, -1.36550305, -2.34464946,\n",
       "       -4.39406068, -3.60378319, -1.43937388, -3.70848106, -2.29709247,\n",
       "       -4.39406068, -1.33950462, -4.19542023, -2.56814024, -1.35145256,\n",
       "       -2.37168888, -4.12744416, -7.01386075, -2.66705519, -2.68157965,\n",
       "       -7.01386075, -7.01386075, -2.68110568, -1.33950462, -4.39406068,\n",
       "       -1.36550305, -1.39584443, -7.01386075, -1.33950462, -2.2850991 ,\n",
       "       -2.50346976, -4.39406068, -2.49354382, -4.07753611, -1.33676149,\n",
       "       -2.68110568, -1.25181203, -2.44153808, -2.29709247, -1.36550305,\n",
       "       -4.39406068, -1.33950462, -2.60035838, -2.47146521, -2.68110568,\n",
       "       -4.1790564 , -1.20828257, -7.01386075, -1.36550305, -1.83032288,\n",
       "       -1.69041032, -7.01386075, -1.39584443, -4.39406068, -2.66705519,\n",
       "       -1.17794119, -2.29709247, -1.36550305, -2.66705519, -5.44303134,\n",
       "       -2.2850991 , -1.17794119, -1.20828257, -1.35145256, -2.29709247,\n",
       "       -1.36550305, -7.01386075, -1.36550305, -5.44303134, -2.2850991 ,\n",
       "       -4.39406068, -2.49354382, -5.31583946, -2.65236412, -2.60035838,\n",
       "       -1.17794119, -7.01386075, -4.33728987, -2.45591277, -2.29709247,\n",
       "       -1.36550305, -4.07753611, -4.39406068, -2.49354382, -2.49354382,\n",
       "       -1.33676149, -4.39406068, -4.39406068, -4.37313972, -4.33728987,\n",
       "       -1.17794119, -1.20828257, -1.25181203, -7.01386075, -4.39406068,\n",
       "       -2.68110568, -1.17794119, -7.01386075, -2.68110568, -2.66705519,\n",
       "       -4.12744416, -1.36550305, -4.39406068, -1.52706648, -1.41063233,\n",
       "       -1.36550305, -5.44303134, -2.68110568, -1.1935721 , -4.39406068,\n",
       "       -2.68110568, -1.36550305, -2.49354382, -1.41410104, -2.62909993,\n",
       "       -2.62909993, -4.39406068, -4.37313972, -1.1935721 , -4.35335683,\n",
       "       -2.68110568, -2.47266096, -2.66705519, -4.39406068, -2.49354382,\n",
       "       -1.20828257, -1.36550305, -1.33950462, -4.33728987, -4.39406068,\n",
       "       -7.01386075, -1.17794119, -1.17794119, -2.47060383, -1.33676149,\n",
       "       -1.52706648, -1.17794119, -2.48465432, -7.01386075, -1.38179394,\n",
       "       -2.47060383, -7.01386075, -2.65236412, -1.36550305, -1.17794119,\n",
       "       -4.39406068, -4.06327457, -2.68110568, -1.17794119, -2.65236412,\n",
       "       -4.39406068, -2.68110568, -1.38113396, -5.44303134, -2.68110568,\n",
       "       -2.2850991 , -1.39584443, -1.67542398, -5.44303134, -7.01386075,\n",
       "       -4.07753611, -4.37313972, -4.33728987, -5.44303134, -4.39406068,\n",
       "       -1.17794119, -3.93999226, -1.51301599, -7.01386075, -2.66705519,\n",
       "       -1.38179394, -1.36550305, -4.33728987, -4.33728987, -7.01386075,\n",
       "       -1.36550305, -2.49354382, -1.36550305, -1.80158132, -2.49354382,\n",
       "       -1.52706648, -3.64036205, -2.4439194 , -3.38240266, -7.01386075,\n",
       "       -2.66705519, -2.66705519, -4.07753611, -1.52706648, -5.44303134,\n",
       "       -3.62304732, -3.4357199 , -4.37313972, -1.17794119, -4.37313972,\n",
       "       -1.36550305, -7.01386075, -2.68110568, -4.06327457, -2.47146521,\n",
       "       -4.39406068, -2.49354382, -1.35145256, -4.39406068, -5.44303134,\n",
       "       -2.45591277, -2.29709247, -2.66705519, -4.07753611, -2.29709247,\n",
       "       -1.71735744, -2.68110568, -2.68110568, -2.62909993, -2.48465432,\n",
       "       -7.01386075, -1.3523924 , -2.47266096, -1.83032288, -3.70848106,\n",
       "       -4.33728987, -4.39406068, -7.01386075, -5.17404365, -2.29709247,\n",
       "       -2.65236412, -2.68110568, -1.17794119, -2.47266096, -4.06327457,\n",
       "       -3.36592128, -1.39584443, -2.29709247, -1.17794119, -1.17794119,\n",
       "       -2.68110568, -2.68110568, -1.52706648, -2.68110568, -1.36550305,\n",
       "       -1.17794119, -4.39406068, -2.66705519, -1.17794119, -2.47060383,\n",
       "       -1.35145256, -4.39406068, -4.39406068, -1.36550305, -1.52706648,\n",
       "       -1.35145256, -4.37313972, -1.17794119, -1.33950462, -2.48465432,\n",
       "       -1.39584443, -2.68110568, -1.52706648, -1.20828257, -4.09424671,\n",
       "       -4.09424671, -1.36550305, -4.39406068, -1.33950462, -2.66705519,\n",
       "       -5.77629399, -1.52706648, -7.01386075, -1.33676149, -5.44303134,\n",
       "       -1.38179394, -7.01386075, -7.01386075, -1.48786212, -4.07753611,\n",
       "       -1.36550305, -2.68110568, -4.06327457, -1.17794119, -1.36550305,\n",
       "       -3.90648322, -1.36550305, -1.52706648, -1.33950462, -7.01386075,\n",
       "       -2.48465432, -1.33950462, -2.66705519, -2.50020677, -4.07753611,\n",
       "       -5.12506004, -2.49354382, -4.39406068, -7.01386075, -2.68110568,\n",
       "       -1.33676149, -3.72245708, -1.35145256, -2.44153808, -2.50346976,\n",
       "       -2.68110568, -2.49354382, -3.44977039, -1.17794119, -2.66705519,\n",
       "       -2.2850991 , -1.36550305, -2.35969552, -1.36550305, -4.33728987,\n",
       "       -2.49354382, -1.38113396, -4.39406068, -1.49832493, -5.44303134,\n",
       "       -1.33950462, -1.17794119, -4.1790564 , -3.52046149, -7.01386075,\n",
       "       -7.01386075, -2.45861047, -4.16194117, -6.90556761, -2.68110568,\n",
       "       -1.52706648, -4.39406068, -1.1935721 , -7.01386075, -7.01386075,\n",
       "       -4.39406068, -4.44539896, -4.07753611, -1.17794119, -2.66705519,\n",
       "       -1.17794119, -1.36550305, -4.39406068, -7.01386075, -4.39406068,\n",
       "       -1.17794119, -5.44303134, -4.39406068, -4.07753611, -7.01386075,\n",
       "       -1.17794119, -2.66705519, -3.72245708, -1.36550305, -1.48786212,\n",
       "       -7.01386075, -3.58839215, -4.07753611, -1.52706648, -2.60035838,\n",
       "       -1.43937388, -1.38113396, -4.1790564 , -2.47060383, -2.68110568,\n",
       "       -2.29709247, -4.39406068, -7.01386075, -1.17794119, -1.67542398,\n",
       "       -5.44303134, -1.17794119, -1.52706648, -4.39406068, -2.47060383,\n",
       "       -1.39584443, -5.44303134, -1.36550305, -2.61504944, -1.49752668,\n",
       "       -2.48465432, -1.33950462, -1.17794119, -2.47266096, -2.68110568,\n",
       "       -4.07753611, -1.52706648, -4.1790564 , -2.44153808, -1.17794119,\n",
       "       -4.37313972, -2.29709247, -1.33950462, -1.33950462, -3.16216807,\n",
       "       -4.39406068, -1.35145256, -7.01386075, -3.92460122, -4.39406068,\n",
       "       -1.17794119, -1.1935721 , -1.52706648, -1.36550305, -2.66705519,\n",
       "       -4.39406068, -1.36550305, -4.39406068, -4.39406068, -7.01386075,\n",
       "       -1.25181203, -1.20828257, -1.36550305, -1.36550305, -4.39406068,\n",
       "       -5.44303134, -2.68110568, -6.98577329, -1.33950462, -2.47266096,\n",
       "       -5.29520522, -4.07753611, -2.49354382, -2.66705519, -1.49832493,\n",
       "       -1.25181203, -2.47060383, -2.68110568, -4.07753611, -4.23348983,\n",
       "       -4.33728987, -4.33728987, -1.25181203, -2.66705519, -4.39406068,\n",
       "       -6.98577329, -2.29709247, -4.39406068, -1.35145256, -2.29709247,\n",
       "       -2.68110568, -1.17794119, -2.68110568, -4.39406068, -1.17794119,\n",
       "       -2.66705519, -2.49354382, -2.29709247, -1.17794119, -1.17794119,\n",
       "       -2.65236412, -1.35145256, -5.44303134, -1.17794119, -2.66705519,\n",
       "       -4.07753611, -1.52706648, -1.1935721 , -7.01386075, -6.98577329,\n",
       "       -1.17794119, -6.09886049, -1.33676149, -2.65236412, -1.35145256,\n",
       "       -7.01386075, -2.8547836 , -1.43937388, -2.49354382, -1.36550305,\n",
       "       -1.35145256, -2.53221131, -2.68110568, -1.17794119, -1.25181203,\n",
       "       -2.66705519, -4.39406068, -4.39406068, -2.49354382, -1.35145256,\n",
       "       -1.17794119, -1.17794119, -7.01386075, -1.36550305, -4.09424671,\n",
       "       -2.48465432, -2.29709247, -1.64276102, -1.36550305, -2.48465432,\n",
       "       -4.39406068, -7.01386075, -1.36550305, -2.41710998, -2.53221131,\n",
       "       -2.66365457, -2.68110568, -7.01386075, -2.44153808, -7.01386075,\n",
       "       -2.47266096, -1.39584443, -4.33728987, -4.07753611, -2.61504944,\n",
       "       -4.39406068, -1.52706648, -4.68874923, -1.36550305, -4.23348983,\n",
       "       -3.36592128, -1.17794119, -2.65236412, -1.20828257, -7.01386075,\n",
       "       -4.39406068, -4.33728987, -1.33950462, -4.33728987, -1.36550305,\n",
       "       -1.33950462, -2.56814024, -2.66705519, -4.39406068, -4.39406068,\n",
       "       -1.20828257, -4.39406068, -1.17794119, -6.90556761, -2.68110568,\n",
       "       -7.01386075, -1.1935721 , -3.70848106, -1.17794119, -1.17794119,\n",
       "       -3.64036205, -7.01386075, -7.01386075, -2.68110568, -3.93999226,\n",
       "       -2.53221131, -5.44303134, -4.33728987, -3.60378319, -1.35145256,\n",
       "       -1.36550305, -1.17794119, -1.33950462, -7.01386075, -4.37313972,\n",
       "       -2.68110568, -7.01386075, -3.70848106, -1.36550305, -2.68110568,\n",
       "       -1.17794119, -1.36550305, -4.39406068, -1.42532339, -2.29709247,\n",
       "       -1.33950462, -4.23348983, -2.62909993, -7.01386075, -2.66705519,\n",
       "       -4.39406068, -4.39406068, -2.68110568, -1.35145256, -1.33950462,\n",
       "       -1.52706648, -1.36708347, -1.17794119, -4.39406068, -4.39406068,\n",
       "       -2.49354382, -2.68110568, -1.36550305, -2.68110568, -2.62909993,\n",
       "       -1.35145256, -1.17794119, -1.36550305, -1.78472777, -1.17794119,\n",
       "       -2.66705519, -4.39406068, -3.60378319, -4.37313972, -1.17794119,\n",
       "       -1.52706648, -2.68110568, -4.39406068, -5.44303134, -2.47266096,\n",
       "       -5.80374552, -2.68110568, -1.33950462, -2.68110568, -5.41614062,\n",
       "       -2.68110568, -2.49354382, -1.25181203, -3.38240266, -1.25181203,\n",
       "       -2.66705519, -4.06327457, -7.01386075, -2.48465432, -1.17794119,\n",
       "       -1.25181203, -4.23348983, -5.12506004, -1.69041032, -2.66705519,\n",
       "       -4.39406068, -4.12744416, -2.62909993, -4.39406068, -4.1790564 ,\n",
       "       -2.47266096, -4.04444291, -1.17794119, -5.44303134, -1.51301599,\n",
       "       -7.01386075, -4.39406068, -1.17794119, -1.78472777, -1.81627239,\n",
       "       -1.52706648, -1.35145256, -1.36550305, -2.48465432, -1.78472777,\n",
       "       -2.47060383, -4.39406068, -4.39406068, -1.17794119, -1.36550305,\n",
       "       -1.36550305, -1.36550305, -7.01386075, -4.39406068, -3.50229491,\n",
       "       -5.44303134, -5.46984259, -1.1935721 , -4.39406068, -7.01386075,\n",
       "       -6.98577329, -4.39406068, -2.66705519, -1.33950462, -1.33950462,\n",
       "       -4.39406068, -1.36550305, -3.70848106, -5.41614062, -1.20828257,\n",
       "       -4.14332881, -4.19542023, -5.44303134, -1.36550305, -4.1790564 ,\n",
       "       -5.44303134, -2.48465432, -2.68110568, -2.68110568, -2.66705519,\n",
       "       -1.17794119, -4.39406068, -2.51724151, -4.06327457, -4.39406068,\n",
       "       -2.65236412, -2.68110568, -4.39406068, -1.17794119, -7.01386075,\n",
       "       -1.41063233, -5.44303134, -4.39406068, -2.66705519, -1.48334237,\n",
       "       -1.36550305, -4.39406068, -5.44303134, -2.62909993, -4.39406068,\n",
       "       -4.09424671, -2.68110568, -2.29709247, -1.36550305, -2.29709247,\n",
       "       -1.35145256, -1.25181203, -3.16216807, -4.39406068, -4.33728987,\n",
       "       -4.39406068, -2.68110568, -2.66705519, -4.68874923, -1.17794119,\n",
       "       -1.38113396, -1.36550305, -2.47266096, -1.17794119, -2.29709247,\n",
       "       -4.33728987, -1.17794119, -1.38113396, -5.44303134, -7.01386075,\n",
       "       -2.68110568, -1.36550305, -4.33728987, -2.66705519, -1.17794119,\n",
       "       -2.34464946, -2.44153808, -2.68110568, -7.01386075, -1.36550305,\n",
       "       -2.66705519, -1.36550305, -1.36550305, -2.65236412, -1.17794119,\n",
       "       -4.39406068, -1.36550305, -2.68110568, -4.39406068, -1.36708347,\n",
       "       -2.68110568, -4.07753611, -5.12506004, -5.44303134, -4.26725621,\n",
       "       -3.64036205, -1.17794119, -7.01386075, -1.36550305, -4.23348983,\n",
       "       -2.48465432, -1.36708347, -4.39406068, -1.95526891, -7.01386075,\n",
       "       -4.33728987, -3.60378319, -4.07753611, -2.68110568, -2.47266096,\n",
       "       -4.39406068, -4.33728987, -4.39406068, -2.68110568, -2.66705519,\n",
       "       -2.47266096, -2.68110568, -1.17794119, -4.39406068, -1.17794119,\n",
       "       -1.36550305, -7.01386075, -5.44303134, -7.01386075, -4.39406068,\n",
       "       -2.37168888, -1.20828257, -1.35145256, -1.17794119, -7.01386075,\n",
       "       -3.60378319, -2.62909993, -4.39406068, -4.39406068, -7.01386075])"
      ]
     },
     "execution_count": 249,
     "metadata": {},
     "output_type": "execute_result"
    }
   ],
   "source": [
    "y_rf_train_pred = rf.predict(X_train)\n",
    "y_rf_train_pred"
   ]
  },
  {
   "cell_type": "markdown",
   "metadata": {},
   "source": [
    "### We want to evaluate the model performance "
   ]
  },
  {
   "cell_type": "code",
   "execution_count": 250,
   "metadata": {},
   "outputs": [
    {
     "name": "stdout",
     "output_type": "stream",
     "text": [
      "1.0571858086105297 0.7596939259088811\n",
      "1.052089579065437 0.758392627714304\n"
     ]
    }
   ],
   "source": [
    "from sklearn.metrics import mean_squared_error, r2_score\n",
    "\n",
    "rf_train_MSE = mean_squared_error(y_train,y_rf_train_pred)\n",
    "rf_train_r2 = r2_score(y_train,y_rf_train_pred)\n",
    "\n",
    "rf_test_MSE = mean_squared_error(y_test,y_rf_test_pred)\n",
    "rf_test_r2 = r2_score(y_test,y_rf_test_pred)\n",
    "\n",
    "print(rf_train_MSE, rf_train_r2 )\n",
    "print(rf_test_MSE, rf_test_r2 )\n"
   ]
  },
  {
   "cell_type": "markdown",
   "metadata": {},
   "source": [
    "#### convert it to a data frame"
   ]
  },
  {
   "cell_type": "code",
   "execution_count": 251,
   "metadata": {},
   "outputs": [
    {
     "data": {
      "text/html": [
       "<div>\n",
       "<style scoped>\n",
       "    .dataframe tbody tr th:only-of-type {\n",
       "        vertical-align: middle;\n",
       "    }\n",
       "\n",
       "    .dataframe tbody tr th {\n",
       "        vertical-align: top;\n",
       "    }\n",
       "\n",
       "    .dataframe thead th {\n",
       "        text-align: right;\n",
       "    }\n",
       "</style>\n",
       "<table border=\"1\" class=\"dataframe\">\n",
       "  <thead>\n",
       "    <tr style=\"text-align: right;\">\n",
       "      <th></th>\n",
       "      <th>0</th>\n",
       "      <th>1</th>\n",
       "      <th>2</th>\n",
       "      <th>3</th>\n",
       "      <th>4</th>\n",
       "    </tr>\n",
       "  </thead>\n",
       "  <tbody>\n",
       "    <tr>\n",
       "      <th>0</th>\n",
       "      <td>RandomForset</td>\n",
       "      <td>1.057186</td>\n",
       "      <td>0.759694</td>\n",
       "      <td>1.05209</td>\n",
       "      <td>0.758393</td>\n",
       "    </tr>\n",
       "  </tbody>\n",
       "</table>\n",
       "</div>"
      ],
      "text/plain": [
       "              0         1         2        3         4\n",
       "0  RandomForset  1.057186  0.759694  1.05209  0.758393"
      ]
     },
     "execution_count": 251,
     "metadata": {},
     "output_type": "execute_result"
    }
   ],
   "source": [
    "Random_forest_result = pd.DataFrame((\"RandomForset\",rf_train_MSE,rf_train_r2, rf_test_MSE, rf_test_r2)).transpose()\n",
    "Random_forest_result"
   ]
  },
  {
   "cell_type": "code",
   "execution_count": 252,
   "metadata": {},
   "outputs": [
    {
     "data": {
      "text/html": [
       "<div>\n",
       "<style scoped>\n",
       "    .dataframe tbody tr th:only-of-type {\n",
       "        vertical-align: middle;\n",
       "    }\n",
       "\n",
       "    .dataframe tbody tr th {\n",
       "        vertical-align: top;\n",
       "    }\n",
       "\n",
       "    .dataframe thead th {\n",
       "        text-align: right;\n",
       "    }\n",
       "</style>\n",
       "<table border=\"1\" class=\"dataframe\">\n",
       "  <thead>\n",
       "    <tr style=\"text-align: right;\">\n",
       "      <th></th>\n",
       "      <th>Method</th>\n",
       "      <th>Train MSE</th>\n",
       "      <th>Train R2</th>\n",
       "      <th>Test MSE</th>\n",
       "      <th>Test R2</th>\n",
       "    </tr>\n",
       "  </thead>\n",
       "  <tbody>\n",
       "    <tr>\n",
       "      <th>0</th>\n",
       "      <td>RandomForset</td>\n",
       "      <td>1.057186</td>\n",
       "      <td>0.759694</td>\n",
       "      <td>1.05209</td>\n",
       "      <td>0.758393</td>\n",
       "    </tr>\n",
       "  </tbody>\n",
       "</table>\n",
       "</div>"
      ],
      "text/plain": [
       "         Method Train MSE  Train R2 Test MSE   Test R2\n",
       "0  RandomForset  1.057186  0.759694  1.05209  0.758393"
      ]
     },
     "execution_count": 252,
     "metadata": {},
     "output_type": "execute_result"
    }
   ],
   "source": [
    "# Change column name\n",
    "Random_forest_result.columns =[\"Method\", \"Train MSE\", \"Train R2\", \"Test MSE\", \"Test R2\"]\n",
    "Random_forest_result"
   ]
  },
  {
   "cell_type": "markdown",
   "metadata": {},
   "source": [
    "### MODEL COMPARISON"
   ]
  },
  {
   "cell_type": "markdown",
   "metadata": {},
   "source": [
    "Random_forest_result\n",
    "__ You can do for more models if you want and make more comparism"
   ]
  },
  {
   "cell_type": "code",
   "execution_count": 273,
   "metadata": {},
   "outputs": [
    {
     "data": {
      "text/html": [
       "<div>\n",
       "<style scoped>\n",
       "    .dataframe tbody tr th:only-of-type {\n",
       "        vertical-align: middle;\n",
       "    }\n",
       "\n",
       "    .dataframe tbody tr th {\n",
       "        vertical-align: top;\n",
       "    }\n",
       "\n",
       "    .dataframe thead th {\n",
       "        text-align: right;\n",
       "    }\n",
       "</style>\n",
       "<table border=\"1\" class=\"dataframe\">\n",
       "  <thead>\n",
       "    <tr style=\"text-align: right;\">\n",
       "      <th></th>\n",
       "      <th>Method</th>\n",
       "      <th>Train MSE</th>\n",
       "      <th>Train R2</th>\n",
       "      <th>Test MSE</th>\n",
       "      <th>Test R2</th>\n",
       "    </tr>\n",
       "  </thead>\n",
       "  <tbody>\n",
       "    <tr>\n",
       "      <th>0</th>\n",
       "      <td>LinearRegression</td>\n",
       "      <td>1.013989</td>\n",
       "      <td>0.769513</td>\n",
       "      <td>0.999084</td>\n",
       "      <td>0.770565</td>\n",
       "    </tr>\n",
       "    <tr>\n",
       "      <th>1</th>\n",
       "      <td>RandomForset</td>\n",
       "      <td>1.057186</td>\n",
       "      <td>0.759694</td>\n",
       "      <td>1.05209</td>\n",
       "      <td>0.758393</td>\n",
       "    </tr>\n",
       "  </tbody>\n",
       "</table>\n",
       "</div>"
      ],
      "text/plain": [
       "             Method Train MSE  Train R2  Test MSE   Test R2\n",
       "0  LinearRegression  1.013989  0.769513  0.999084  0.770565\n",
       "1      RandomForset  1.057186  0.759694   1.05209  0.758393"
      ]
     },
     "execution_count": 273,
     "metadata": {},
     "output_type": "execute_result"
    }
   ],
   "source": [
    "Linear_Random_result = pd.concat([linear_regression_result, Random_forest_result ],axis=0 ).reset_index(drop=True)\n",
    "Linear_Random_result"
   ]
  },
  {
   "cell_type": "markdown",
   "metadata": {},
   "source": [
    "### Data vsualization of predicted value and actual value"
   ]
  },
  {
   "cell_type": "markdown",
   "metadata": {},
   "source": []
  },
  {
   "cell_type": "code",
   "execution_count": 290,
   "metadata": {},
   "outputs": [
    {
     "data": {
      "text/plain": [
       "Text(0.5, 0, 'Experimental  Logs')"
      ]
     },
     "execution_count": 290,
     "metadata": {},
     "output_type": "execute_result"
    },
    {
     "data": {
      "image/png": "[encoded data removed]",
      "text/plain": [
       "<Figure size 600x600 with 1 Axes>"
      ]
     },
     "metadata": {},
     "output_type": "display_data"
    }
   ],
   "source": [
    "import matplotlib.pyplot as plt\n",
    "import numpy as np\n",
    "\n",
    "\n",
    "plt.figure(figsize=(6,6))\n",
    "plt.scatter(x=y_train, y=y_lr_train_prediction,c = \"green\", alpha=0.3)\n",
    "plt.plot()\n",
    "plt.title(\"Plot of predicted value verses actual values\", size=15)\n",
    "\n",
    "n = np.polyfit(y_train, y_lr_train_prediction, 1)\n",
    "p = np.poly1d(n)\n",
    "\n",
    "plt.plot(y_train, p(y_train), \"red\")\n",
    "plt.ylabel(\"Predict logs\")\n",
    "plt.xlabel(\"Experimental  Logs\")"
   ]
  },
  {
   "cell_type": "code",
   "execution_count": null,
   "metadata": {},
   "outputs": [],
   "source": []
  }
 ],
 "metadata": {
  "kernelspec": {
   "display_name": "base",
   "language": "python",
   "name": "python3"
  },
  "language_info": {
   "codemirror_mode": {
    "name": "ipython",
    "version": 3
   },
   "file_extension": ".py",
   "mimetype": "text/x-python",
   "name": "python",
   "nbconvert_exporter": "python",
   "pygments_lexer": "ipython3",
   "version": "3.11.5"
  }
 },
 "nbformat": 4,
 "nbformat_minor": 2
}
